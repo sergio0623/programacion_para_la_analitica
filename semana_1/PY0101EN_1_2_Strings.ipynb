{
  "metadata": {
    "kernelspec": {
      "name": "python",
      "display_name": "Pyolite",
      "language": "python"
    },
    "language_info": {
      "codemirror_mode": {
        "name": "python",
        "version": 3
      },
      "file_extension": ".py",
      "mimetype": "text/x-python",
      "name": "python",
      "nbconvert_exporter": "python",
      "pygments_lexer": "ipython3",
      "version": "3.8"
    },
    "colab": {
      "name": "PY0101EN-1-2-Strings.ipynb",
      "provenance": [],
      "include_colab_link": true
    }
  },
  "nbformat_minor": 0,
  "nbformat": 4,
  "cells": [
    {
      "cell_type": "markdown",
      "metadata": {
        "id": "view-in-github",
        "colab_type": "text"
      },
      "source": [
        "<a href=\"https://colab.research.google.com/github/sergio0623/programacion_para_la_analitica/blob/main/PY0101EN_1_2_Strings.ipynb\" target=\"_parent\"><img src=\"https://colab.research.google.com/assets/colab-badge.svg\" alt=\"Open In Colab\"/></a>"
      ]
    },
    {
      "cell_type": "markdown",
      "source": [
        "<center>\n",
        "    <img src=\"https://cf-courses-data.s3.us.cloud-object-storage.appdomain.cloud/IBMDeveloperSkillsNetwork-PY0101EN-SkillsNetwork/IDSNlogo.png\" width=\"300\" alt=\"cognitiveclass.ai logo\"  />\n",
        "</center>\n",
        "\n",
        "# String Operations\n",
        "\n",
        "Estimated time needed: **15** minutes\n",
        "\n",
        "## Objectives\n",
        "\n",
        "After completing this lab you will be able to:\n",
        "\n",
        "*   Work with Strings\n",
        "*   Perform operations on String\n",
        "*   Manipulate Strings using indexing and escape sequences\n"
      ],
      "metadata": {
        "id": "UDhkd9hBPyt8"
      }
    },
    {
      "cell_type": "markdown",
      "source": [
        "<h2>Table of Contents</h2>\n",
        "<div class=\"alert alert-block alert-info\" style=\"margin-top: 20px\">\n",
        "    <ul>\n",
        "        <li>\n",
        "            <a href=\"https://#strings\">What are Strings?</a>\n",
        "        </li>\n",
        "        <li>\n",
        "            <a href=\"https://#index\">Indexing</a>\n",
        "            <ul>\n",
        "                <li><a href=\"https://neg/?utm_medium=Exinfluencer&utm_source=Exinfluencer&utm_content=000026UJ&utm_term=10006555&utm_id=NA-SkillsNetwork-Channel-SkillsNetworkCoursesIBMDeveloperSkillsNetworkPY0101ENSkillsNetwork19487395-2021-01-01\">Negative Indexing</a></li>\n",
        "                <li><a href=\"https://slice/?utm_medium=Exinfluencer&utm_source=Exinfluencer&utm_content=000026UJ&utm_term=10006555&utm_id=NA-SkillsNetwork-Channel-SkillsNetworkCoursesIBMDeveloperSkillsNetworkPY0101ENSkillsNetwork19487395-2021-01-01\">Slicing</a></li>\n",
        "                <li><a href=\"https://stride/?utm_medium=Exinfluencer&utm_source=Exinfluencer&utm_content=000026UJ&utm_term=10006555&utm_id=NA-SkillsNetwork-Channel-SkillsNetworkCoursesIBMDeveloperSkillsNetworkPY0101ENSkillsNetwork19487395-2021-01-01\">Stride</a></li>\n",
        "                <li><a href=\"https://concat/?utm_medium=Exinfluencer&utm_source=Exinfluencer&utm_content=000026UJ&utm_term=10006555&utm_id=NA-SkillsNetwork-Channel-SkillsNetworkCoursesIBMDeveloperSkillsNetworkPY0101ENSkillsNetwork19487395-2021-01-01\">Concatenate Strings</a></li>\n",
        "            </ul>\n",
        "        </li>\n",
        "        <li>\n",
        "            <a href=\"https://#escape\">Escape Sequences</a>\n",
        "        </li>\n",
        "        <li>\n",
        "            <a href=\"https://#operations\">String Operations</a>\n",
        "        </li>\n",
        "        <li>\n",
        "            <a href=\"https://#quiz\">Quiz on Strings</a>\n",
        "        </li>\n",
        "    </ul>\n",
        "\n",
        "</div>\n",
        "\n",
        "<hr>\n"
      ],
      "metadata": {
        "id": "3gHcJQI1PyuD"
      }
    },
    {
      "cell_type": "markdown",
      "source": [
        "<h2 id=\"strings\">What are Strings?</h2>\n"
      ],
      "metadata": {
        "id": "cg1RxKzQPyuF"
      }
    },
    {
      "cell_type": "markdown",
      "source": [
        "The following example shows a string contained within 2 quotation marks:\n"
      ],
      "metadata": {
        "id": "QepSx8fVPyuF"
      }
    },
    {
      "cell_type": "code",
      "source": [
        "# Use quotation marks for defining string\n",
        "\n",
        "\"Michael Jackson\""
      ],
      "metadata": {
        "id": "S1Dax_plPyuG",
        "outputId": "51bdc27e-3df5-459d-f1d7-a55563d4b41c",
        "colab": {
          "base_uri": "https://localhost:8080/",
          "height": 35
        }
      },
      "execution_count": 1,
      "outputs": [
        {
          "output_type": "execute_result",
          "data": {
            "text/plain": [
              "'Michael Jackson'"
            ],
            "application/vnd.google.colaboratory.intrinsic+json": {
              "type": "string"
            }
          },
          "metadata": {},
          "execution_count": 1
        }
      ]
    },
    {
      "cell_type": "markdown",
      "source": [
        "We can also use single quotation marks:\n"
      ],
      "metadata": {
        "id": "IkWn3PfHPyuI"
      }
    },
    {
      "cell_type": "code",
      "source": [
        "# Use single quotation marks for defining string\n",
        "\n",
        "'Michael Jackson'"
      ],
      "metadata": {
        "id": "fUstcoRoPyuJ",
        "outputId": "8edb8b51-97b7-4780-b825-6eaa45f41dc5",
        "colab": {
          "base_uri": "https://localhost:8080/",
          "height": 35
        }
      },
      "execution_count": 2,
      "outputs": [
        {
          "output_type": "execute_result",
          "data": {
            "text/plain": [
              "'Michael Jackson'"
            ],
            "application/vnd.google.colaboratory.intrinsic+json": {
              "type": "string"
            }
          },
          "metadata": {},
          "execution_count": 2
        }
      ]
    },
    {
      "cell_type": "markdown",
      "source": [
        "A string can be a combination of spaces and digits:\n"
      ],
      "metadata": {
        "id": "iQeHNcnkPyuK"
      }
    },
    {
      "cell_type": "code",
      "source": [
        "# Digitals and spaces in string\n",
        "\n",
        "'1 2 3 4 5 6 '"
      ],
      "metadata": {
        "id": "tQB6qPckPyuL",
        "outputId": "84373912-014c-45e4-ce20-e051f7dfdcd5",
        "colab": {
          "base_uri": "https://localhost:8080/",
          "height": 35
        }
      },
      "execution_count": 3,
      "outputs": [
        {
          "output_type": "execute_result",
          "data": {
            "text/plain": [
              "'1 2 3 4 5 6 '"
            ],
            "application/vnd.google.colaboratory.intrinsic+json": {
              "type": "string"
            }
          },
          "metadata": {},
          "execution_count": 3
        }
      ]
    },
    {
      "cell_type": "markdown",
      "source": [
        "A string can also be a combination of special characters :\n"
      ],
      "metadata": {
        "id": "Wm754HPsPyuM"
      }
    },
    {
      "cell_type": "code",
      "source": [
        "# Special characters in string\n",
        "\n",
        "'@#2_#]&*^%$'"
      ],
      "metadata": {
        "id": "A2aWOPzvPyuM",
        "outputId": "49654856-d253-40ed-ce4d-e587a41574af",
        "colab": {
          "base_uri": "https://localhost:8080/",
          "height": 35
        }
      },
      "execution_count": 4,
      "outputs": [
        {
          "output_type": "execute_result",
          "data": {
            "text/plain": [
              "'@#2_#]&*^%$'"
            ],
            "application/vnd.google.colaboratory.intrinsic+json": {
              "type": "string"
            }
          },
          "metadata": {},
          "execution_count": 4
        }
      ]
    },
    {
      "cell_type": "markdown",
      "source": [
        "We can print our string using the print statement:\n"
      ],
      "metadata": {
        "id": "_G22uY4aPyuN"
      }
    },
    {
      "cell_type": "code",
      "source": [
        "# Print the string\n",
        "\n",
        "print(\"hello!\")"
      ],
      "metadata": {
        "id": "ZdbQeVZmPyuN",
        "outputId": "a185cd1b-9fa2-4b73-f3c4-fd1a0c83b8af",
        "colab": {
          "base_uri": "https://localhost:8080/"
        }
      },
      "execution_count": 5,
      "outputs": [
        {
          "output_type": "stream",
          "name": "stdout",
          "text": [
            "hello!\n"
          ]
        }
      ]
    },
    {
      "cell_type": "markdown",
      "source": [
        "We can bind or assign a string to another variable:\n"
      ],
      "metadata": {
        "id": "CPqyY9NYPyuO"
      }
    },
    {
      "cell_type": "code",
      "source": [
        "# Assign string to variable\n",
        "\n",
        "name = \"Michael Jackson\"\n",
        "name"
      ],
      "metadata": {
        "id": "plEjULTdPyuO",
        "outputId": "08195dda-180b-4491-9fa5-8a191aa3d406",
        "colab": {
          "base_uri": "https://localhost:8080/",
          "height": 35
        }
      },
      "execution_count": 6,
      "outputs": [
        {
          "output_type": "execute_result",
          "data": {
            "text/plain": [
              "'Michael Jackson'"
            ],
            "application/vnd.google.colaboratory.intrinsic+json": {
              "type": "string"
            }
          },
          "metadata": {},
          "execution_count": 6
        }
      ]
    },
    {
      "cell_type": "markdown",
      "source": [
        "<hr>\n"
      ],
      "metadata": {
        "id": "Cd_aQlDXPyuP"
      }
    },
    {
      "cell_type": "markdown",
      "source": [
        "<h2 id=\"index\">Indexing</h2>\n"
      ],
      "metadata": {
        "id": "aS_gHfsmPyuP"
      }
    },
    {
      "cell_type": "markdown",
      "source": [
        "It is helpful to think of a string as an ordered sequence. Each element in the sequence can be accessed using an index represented by the array of numbers:\n"
      ],
      "metadata": {
        "id": "GqHn02tpPyuQ"
      }
    },
    {
      "cell_type": "markdown",
      "source": [
        "<img src=\"https://cf-courses-data.s3.us.cloud-object-storage.appdomain.cloud/IBMDeveloperSkillsNetwork-PY0101EN-SkillsNetwork/labs/Module%201/images/StringsIndex.png\" width=\"600\" align=\"center\" />\n"
      ],
      "metadata": {
        "id": "bYsEjcUlPyuQ"
      }
    },
    {
      "cell_type": "markdown",
      "source": [
        "The first index can be accessed as follows:\n"
      ],
      "metadata": {
        "id": "llOPFeTFPyuQ"
      }
    },
    {
      "cell_type": "markdown",
      "source": [
        "<hr/>\n",
        "<div class=\"alert alert-success alertsuccess\" style=\"margin-top: 20px\">\n",
        "[Tip]: Because indexing starts at 0, it means the first index is on the index 0.\n",
        "</div>\n",
        "<hr/>\n"
      ],
      "metadata": {
        "id": "_vhmupnWPyuR"
      }
    },
    {
      "cell_type": "code",
      "source": [
        "# Print the first element in the string\n",
        "\n",
        "print(name[0])"
      ],
      "metadata": {
        "id": "XNPVgJwVPyuR",
        "outputId": "db0c6c31-904c-4b5e-e4f6-f29f72714742",
        "colab": {
          "base_uri": "https://localhost:8080/"
        }
      },
      "execution_count": 7,
      "outputs": [
        {
          "output_type": "stream",
          "name": "stdout",
          "text": [
            "M\n"
          ]
        }
      ]
    },
    {
      "cell_type": "markdown",
      "source": [
        "We can access index 6:\n"
      ],
      "metadata": {
        "id": "B7KLcMM4PyuS"
      }
    },
    {
      "cell_type": "code",
      "source": [
        "# Print the element on index 6 in the string\n",
        "\n",
        "print(name[6])"
      ],
      "metadata": {
        "id": "8W7bVEmEPyuT",
        "outputId": "96c7cc78-1fb7-4b3d-9a55-f81cd60b6e60",
        "colab": {
          "base_uri": "https://localhost:8080/"
        }
      },
      "execution_count": 8,
      "outputs": [
        {
          "output_type": "stream",
          "name": "stdout",
          "text": [
            "l\n"
          ]
        }
      ]
    },
    {
      "cell_type": "markdown",
      "source": [
        "Moreover, we can access the 13th index:\n"
      ],
      "metadata": {
        "id": "FyEvpn5yPyuU"
      }
    },
    {
      "cell_type": "code",
      "source": [
        "# Print the element on the 13th index in the string\n",
        "\n",
        "print(name[13])"
      ],
      "metadata": {
        "id": "plQOWfb_PyuU",
        "outputId": "89080565-5539-4cd4-87c7-62b09c5d9170",
        "colab": {
          "base_uri": "https://localhost:8080/"
        }
      },
      "execution_count": 9,
      "outputs": [
        {
          "output_type": "stream",
          "name": "stdout",
          "text": [
            "o\n"
          ]
        }
      ]
    },
    {
      "cell_type": "markdown",
      "source": [
        "<h3 id=\"neg\">Negative Indexing</h3>\n"
      ],
      "metadata": {
        "id": "hTdmrs3oPyuU"
      }
    },
    {
      "cell_type": "markdown",
      "source": [
        "We can also use negative indexing with strings:\n"
      ],
      "metadata": {
        "id": "RotUruSOPyuU"
      }
    },
    {
      "cell_type": "markdown",
      "source": [
        "<img src=\"https://cf-courses-data.s3.us.cloud-object-storage.appdomain.cloud/IBMDeveloperSkillsNetwork-PY0101EN-SkillsNetwork/labs/Module%201/images/StringsNeg.png\" width=\"600\" align=\"center\" />\n"
      ],
      "metadata": {
        "id": "UplQD0qxPyuV"
      }
    },
    {
      "cell_type": "markdown",
      "source": [
        "Negative index can help us to count the element from the end of the string.\n"
      ],
      "metadata": {
        "id": "S1O-aLuOPyuV"
      }
    },
    {
      "cell_type": "markdown",
      "source": [
        "The last element is given by the index -1:\n"
      ],
      "metadata": {
        "id": "thtaXiG8PyuV"
      }
    },
    {
      "cell_type": "code",
      "source": [
        "# Print the last element in the string\n",
        "\n",
        "print(name[-1])"
      ],
      "metadata": {
        "id": "H8f55o8mPyuV",
        "outputId": "7bd4c340-eb4c-45d7-bfd6-aa40a1f9f337",
        "colab": {
          "base_uri": "https://localhost:8080/"
        }
      },
      "execution_count": 10,
      "outputs": [
        {
          "output_type": "stream",
          "name": "stdout",
          "text": [
            "n\n"
          ]
        }
      ]
    },
    {
      "cell_type": "markdown",
      "source": [
        "The first element can be obtained by  index -15:\n"
      ],
      "metadata": {
        "id": "A-MHPN65PyuW"
      }
    },
    {
      "cell_type": "code",
      "source": [
        "# Print the first element in the string\n",
        "\n",
        "print(name[-15])"
      ],
      "metadata": {
        "id": "YksEVndgPyuW",
        "outputId": "4ad28a3e-13f1-4ccb-9d8a-72a265e5d0d6",
        "colab": {
          "base_uri": "https://localhost:8080/"
        }
      },
      "execution_count": 11,
      "outputs": [
        {
          "output_type": "stream",
          "name": "stdout",
          "text": [
            "M\n"
          ]
        }
      ]
    },
    {
      "cell_type": "markdown",
      "source": [
        "We can find the number of characters in a string by using <code>len</code>, short for length:\n"
      ],
      "metadata": {
        "id": "2WZsJp8NPyuW"
      }
    },
    {
      "cell_type": "code",
      "source": [
        "# Find the length of string\n",
        "\n",
        "len(\"Michael Jackson\")"
      ],
      "metadata": {
        "id": "GvnAPv5UPyuW",
        "outputId": "222c3818-37c4-4c7e-b908-dc9360a20c55",
        "colab": {
          "base_uri": "https://localhost:8080/"
        }
      },
      "execution_count": 12,
      "outputs": [
        {
          "output_type": "execute_result",
          "data": {
            "text/plain": [
              "15"
            ]
          },
          "metadata": {},
          "execution_count": 12
        }
      ]
    },
    {
      "cell_type": "markdown",
      "source": [
        "<h3 id=\"slice\">Slicing</h3>\n"
      ],
      "metadata": {
        "id": "2QIIU10PPyuX"
      }
    },
    {
      "cell_type": "markdown",
      "source": [
        "We can obtain multiple characters from a string using slicing, we can obtain the 0 to 4th and 8th to the 12th element:\n"
      ],
      "metadata": {
        "id": "on2YXwCuPyuX"
      }
    },
    {
      "cell_type": "markdown",
      "source": [
        "<img src=\"https://cf-courses-data.s3.us.cloud-object-storage.appdomain.cloud/IBMDeveloperSkillsNetwork-PY0101EN-SkillsNetwork/labs/Module%201/images/StringsSlice.png\" width=\"600\" align=\"center\" />\n"
      ],
      "metadata": {
        "id": "KmzlrLNhPyuX"
      }
    },
    {
      "cell_type": "markdown",
      "source": [
        "<hr/>\n",
        "<div class=\"alert alert-success alertsuccess\" style=\"margin-top: 20px\">\n",
        "[Tip]: When taking the slice, the first number means the index (start at 0), and the second number means the length from the index to the last element you want (start at 1)\n",
        "</div>\n",
        "<hr/>\n"
      ],
      "metadata": {
        "id": "aA03fp5rPyuY"
      }
    },
    {
      "cell_type": "code",
      "source": [
        "# Take the slice on variable name with only index 0 to index 3\n",
        "\n",
        "name[0:4]"
      ],
      "metadata": {
        "id": "DjzJlw82PyuY",
        "outputId": "5311c155-0b8e-45ec-df30-d4194a288ff7",
        "colab": {
          "base_uri": "https://localhost:8080/",
          "height": 35
        }
      },
      "execution_count": 13,
      "outputs": [
        {
          "output_type": "execute_result",
          "data": {
            "text/plain": [
              "'Mich'"
            ],
            "application/vnd.google.colaboratory.intrinsic+json": {
              "type": "string"
            }
          },
          "metadata": {},
          "execution_count": 13
        }
      ]
    },
    {
      "cell_type": "code",
      "source": [
        "# Take the slice on variable name with only index 8 to index 11\n",
        "\n",
        "name[8:12]"
      ],
      "metadata": {
        "id": "yNnSnUDfPyuY",
        "outputId": "7370fdfc-5626-41d2-8897-cb59bb64bfaa",
        "colab": {
          "base_uri": "https://localhost:8080/",
          "height": 35
        }
      },
      "execution_count": 14,
      "outputs": [
        {
          "output_type": "execute_result",
          "data": {
            "text/plain": [
              "'Jack'"
            ],
            "application/vnd.google.colaboratory.intrinsic+json": {
              "type": "string"
            }
          },
          "metadata": {},
          "execution_count": 14
        }
      ]
    },
    {
      "cell_type": "markdown",
      "source": [
        "<h3 id=\"stride\">Stride</h3>\n"
      ],
      "metadata": {
        "id": "8nR55udlPyuY"
      }
    },
    {
      "cell_type": "markdown",
      "source": [
        "We can also  input a stride value as follows, with the '2' indicating that we are selecting every second variable:\n"
      ],
      "metadata": {
        "id": "JWT21RkMPyuZ"
      }
    },
    {
      "cell_type": "markdown",
      "source": [
        "<img src=\"https://cf-courses-data.s3.us.cloud-object-storage.appdomain.cloud/IBMDeveloperSkillsNetwork-PY0101EN-SkillsNetwork/labs/Module%201/images/StringsStride.png\" width=\"600\" align=\"center\" />\n"
      ],
      "metadata": {
        "id": "h-xGIF16PyuZ"
      }
    },
    {
      "cell_type": "code",
      "source": [
        "# Get every second element. The elments on index 1, 3, 5 ...\n",
        "\n",
        "name[::2]"
      ],
      "metadata": {
        "id": "NukeyjfyPyuZ",
        "outputId": "d675f4be-dd2b-4427-9933-d22f38a8e761",
        "colab": {
          "base_uri": "https://localhost:8080/",
          "height": 35
        }
      },
      "execution_count": 15,
      "outputs": [
        {
          "output_type": "execute_result",
          "data": {
            "text/plain": [
              "'McalJcsn'"
            ],
            "application/vnd.google.colaboratory.intrinsic+json": {
              "type": "string"
            }
          },
          "metadata": {},
          "execution_count": 15
        }
      ]
    },
    {
      "cell_type": "markdown",
      "source": [
        "We can also incorporate slicing  with the stride. In this case, we select the first five elements and then use the stride:\n"
      ],
      "metadata": {
        "id": "GUn5ZH-dPyua"
      }
    },
    {
      "cell_type": "code",
      "source": [
        "# Get every second element in the range from index 0 to index 4\n",
        "\n",
        "name[0:5:2]"
      ],
      "metadata": {
        "id": "xrPTY8lhPyua",
        "outputId": "9fbb748b-bc07-478c-a3a7-1180694e3605",
        "colab": {
          "base_uri": "https://localhost:8080/",
          "height": 35
        }
      },
      "execution_count": 16,
      "outputs": [
        {
          "output_type": "execute_result",
          "data": {
            "text/plain": [
              "'Mca'"
            ],
            "application/vnd.google.colaboratory.intrinsic+json": {
              "type": "string"
            }
          },
          "metadata": {},
          "execution_count": 16
        }
      ]
    },
    {
      "cell_type": "markdown",
      "source": [
        "<h3 id=\"concat\">Concatenate Strings</h3>\n"
      ],
      "metadata": {
        "id": "p44lZN8dPyua"
      }
    },
    {
      "cell_type": "markdown",
      "source": [
        "We can concatenate or combine strings by using the addition symbols, and the result is a new string that is a combination of both:\n"
      ],
      "metadata": {
        "id": "aIMFR1O3Pyua"
      }
    },
    {
      "cell_type": "code",
      "source": [
        "# Concatenate two strings\n",
        "\n",
        "statement = name + \"is the best\"\n",
        "statement"
      ],
      "metadata": {
        "id": "MAlzlP6pPyua",
        "outputId": "e777f0af-0050-4004-a4c9-b05561cbd651",
        "colab": {
          "base_uri": "https://localhost:8080/",
          "height": 35
        }
      },
      "execution_count": 17,
      "outputs": [
        {
          "output_type": "execute_result",
          "data": {
            "text/plain": [
              "'Michael Jacksonis the best'"
            ],
            "application/vnd.google.colaboratory.intrinsic+json": {
              "type": "string"
            }
          },
          "metadata": {},
          "execution_count": 17
        }
      ]
    },
    {
      "cell_type": "markdown",
      "source": [
        "To replicate values of a string we simply multiply the string by the number of times we would like to replicate it. In this case, the number is three. The result is a new string, and this new string consists of three copies of the original string:\n"
      ],
      "metadata": {
        "id": "y5L2lQIsPyub"
      }
    },
    {
      "cell_type": "code",
      "source": [
        "# Print the string for 3 times\n",
        "\n",
        "3 * \"Michael Jackson\""
      ],
      "metadata": {
        "id": "iwuuRUbDPyub",
        "outputId": "f4496f2a-8a62-41cb-823c-c4ca430b8801",
        "colab": {
          "base_uri": "https://localhost:8080/",
          "height": 35
        }
      },
      "execution_count": 18,
      "outputs": [
        {
          "output_type": "execute_result",
          "data": {
            "text/plain": [
              "'Michael JacksonMichael JacksonMichael Jackson'"
            ],
            "application/vnd.google.colaboratory.intrinsic+json": {
              "type": "string"
            }
          },
          "metadata": {},
          "execution_count": 18
        }
      ]
    },
    {
      "cell_type": "markdown",
      "source": [
        "You can create a new string by setting it to the original variable. Concatenated  with a new string, the result is a new string that changes from Michael Jackson to “Michael Jackson is the best\".\n"
      ],
      "metadata": {
        "id": "sN-yUiKKPyub"
      }
    },
    {
      "cell_type": "code",
      "source": [
        "# Concatenate strings\n",
        "\n",
        "name = \"Michael Jackson\"\n",
        "name = name + \" is the best\"\n",
        "name"
      ],
      "metadata": {
        "id": "DGSBAJhQPyuc",
        "outputId": "ac513e77-ba43-4541-92c3-f291b5751873",
        "colab": {
          "base_uri": "https://localhost:8080/",
          "height": 35
        }
      },
      "execution_count": 19,
      "outputs": [
        {
          "output_type": "execute_result",
          "data": {
            "text/plain": [
              "'Michael Jackson is the best'"
            ],
            "application/vnd.google.colaboratory.intrinsic+json": {
              "type": "string"
            }
          },
          "metadata": {},
          "execution_count": 19
        }
      ]
    },
    {
      "cell_type": "markdown",
      "source": [
        "<hr>\n"
      ],
      "metadata": {
        "id": "Z155xxTmPyuc"
      }
    },
    {
      "cell_type": "markdown",
      "source": [
        "<h2 id=\"escape\">Escape Sequences</h2>\n"
      ],
      "metadata": {
        "id": "bC6G_zOQPyuc"
      }
    },
    {
      "cell_type": "markdown",
      "source": [
        "Back slashes represent the beginning  of escape sequences. Escape sequences represent strings that may be difficult to input. For example, back slash \"n\" represents a new line. The output is given by a new line after the back slash \"n\" is encountered:\n"
      ],
      "metadata": {
        "id": "xf0Delg6Pyud"
      }
    },
    {
      "cell_type": "code",
      "source": [
        "# New line escape sequence\n",
        "\n",
        "print(\" Michael Jackson \\n is the best\" )"
      ],
      "metadata": {
        "id": "waVhzLdqPyud",
        "outputId": "0cd22504-f67b-4bea-8d70-c0562219bf1d",
        "colab": {
          "base_uri": "https://localhost:8080/"
        }
      },
      "execution_count": 20,
      "outputs": [
        {
          "output_type": "stream",
          "name": "stdout",
          "text": [
            " Michael Jackson \n",
            " is the best\n"
          ]
        }
      ]
    },
    {
      "cell_type": "markdown",
      "source": [
        "Similarly, back slash  \"t\" represents a tab:\n"
      ],
      "metadata": {
        "id": "9FMqK0soPyud"
      }
    },
    {
      "cell_type": "code",
      "source": [
        "# Tab escape sequence\n",
        "\n",
        "print(\" Michael Jackson \\t is the best\" )"
      ],
      "metadata": {
        "id": "3CjEGgyYPyud",
        "outputId": "095f85c5-1845-461a-9882-da4894cea1da",
        "colab": {
          "base_uri": "https://localhost:8080/"
        }
      },
      "execution_count": 21,
      "outputs": [
        {
          "output_type": "stream",
          "name": "stdout",
          "text": [
            " Michael Jackson \t is the best\n"
          ]
        }
      ]
    },
    {
      "cell_type": "markdown",
      "source": [
        "If you want to place a back slash in your string, use a double back slash:\n"
      ],
      "metadata": {
        "id": "tmK33dJqPyue"
      }
    },
    {
      "cell_type": "code",
      "source": [
        "# Include back slash in string\n",
        "\n",
        "print(\" Michael Jackson \\\\ is the best\" )"
      ],
      "metadata": {
        "id": "6qO7Rey0Pyue",
        "outputId": "7c30a6cd-263f-4b43-9f7e-5fed77de0ab5",
        "colab": {
          "base_uri": "https://localhost:8080/"
        }
      },
      "execution_count": 22,
      "outputs": [
        {
          "output_type": "stream",
          "name": "stdout",
          "text": [
            " Michael Jackson \\ is the best\n"
          ]
        }
      ]
    },
    {
      "cell_type": "markdown",
      "source": [
        "We can also place an \"r\" before the string to display the backslash:\n"
      ],
      "metadata": {
        "id": "TA5lF6RnPyue"
      }
    },
    {
      "cell_type": "code",
      "source": [
        "# r will tell python that string will be display as raw string\n",
        "\n",
        "print(r\" Michael Jackson \\ is the best\" )"
      ],
      "metadata": {
        "id": "Nsjn5ysdPyue",
        "outputId": "bfe6fdbb-2f3d-4280-9d42-c4e516244468",
        "colab": {
          "base_uri": "https://localhost:8080/"
        }
      },
      "execution_count": 23,
      "outputs": [
        {
          "output_type": "stream",
          "name": "stdout",
          "text": [
            " Michael Jackson \\ is the best\n"
          ]
        }
      ]
    },
    {
      "cell_type": "markdown",
      "source": [
        "<hr>\n"
      ],
      "metadata": {
        "id": "LfZq3GV1Pyuf"
      }
    },
    {
      "cell_type": "markdown",
      "source": [
        "<h2 id=\"operations\">String Operations</h2>\n"
      ],
      "metadata": {
        "id": "YPPUVKIlPyuf"
      }
    },
    {
      "cell_type": "markdown",
      "source": [
        "There are many string operation methods in Python that can be used to manipulate the data. We are going to use some basic string operations on the data.\n"
      ],
      "metadata": {
        "id": "RD2a8OTmPyuf"
      }
    },
    {
      "cell_type": "markdown",
      "source": [
        "Let's try with the method <code>upper</code>; this method converts lower case characters to upper case characters:\n"
      ],
      "metadata": {
        "id": "CQcOVhDTPyuf"
      }
    },
    {
      "cell_type": "code",
      "source": [
        "# Convert all the characters in string to upper case\n",
        "\n",
        "a = \"Thriller is the sixth studio album\"\n",
        "print(\"before upper:\", a)\n",
        "b = a.upper()\n",
        "print(\"After upper:\", b)"
      ],
      "metadata": {
        "id": "tlfLomctPyug",
        "outputId": "85a5e535-7944-4a72-8710-200a5604816b",
        "colab": {
          "base_uri": "https://localhost:8080/"
        }
      },
      "execution_count": 24,
      "outputs": [
        {
          "output_type": "stream",
          "name": "stdout",
          "text": [
            "before upper: Thriller is the sixth studio album\n",
            "After upper: THRILLER IS THE SIXTH STUDIO ALBUM\n"
          ]
        }
      ]
    },
    {
      "cell_type": "markdown",
      "source": [
        "The method <code>replace</code> replaces a segment of the string, i.e. a substring  with a new string. We input the part of the string we would like to change. The second argument is what we would like to exchange the segment with, and the result is a new string with the segment changed:\n"
      ],
      "metadata": {
        "id": "Qcd5iZ9yPyug"
      }
    },
    {
      "cell_type": "code",
      "source": [
        "# Replace the old substring with the new target substring is the segment has been found in the string\n",
        "\n",
        "a = \"Michael Jackson is the best\"\n",
        "b = a.replace('Michael', 'Janet')\n",
        "b"
      ],
      "metadata": {
        "id": "8QHfaVQPPyug",
        "outputId": "99679ce2-5dbd-46e7-f5f7-d93a4ebbaa72",
        "colab": {
          "base_uri": "https://localhost:8080/",
          "height": 35
        }
      },
      "execution_count": 25,
      "outputs": [
        {
          "output_type": "execute_result",
          "data": {
            "text/plain": [
              "'Janet Jackson is the best'"
            ],
            "application/vnd.google.colaboratory.intrinsic+json": {
              "type": "string"
            }
          },
          "metadata": {},
          "execution_count": 25
        }
      ]
    },
    {
      "cell_type": "markdown",
      "source": [
        "The method <code>find</code> finds a sub-string. The argument is the substring you would like to find, and the output is the first index of the sequence. We can find the sub-string <code>jack</code> or <code>el<code>.\n"
      ],
      "metadata": {
        "id": "rtKc0RjjPyuh"
      }
    },
    {
      "cell_type": "markdown",
      "source": [
        "<img src=\"https://cf-courses-data.s3.us.cloud-object-storage.appdomain.cloud/IBMDeveloperSkillsNetwork-PY0101EN-SkillsNetwork/labs/Module%201/images/StringsFind.png\" width=\"600\" align=\"center\" />\n"
      ],
      "metadata": {
        "id": "I0_qREdFPyuh"
      }
    },
    {
      "cell_type": "code",
      "source": [
        "# Find the substring in the string. Only the index of the first elment of substring in string will be the output\n",
        "\n",
        "name = \"Michael Jackson\"\n",
        "name.find('el')"
      ],
      "metadata": {
        "id": "RorhymtDPyuh",
        "outputId": "8a8040a1-a121-4e2c-812a-fadad9c0ac1a",
        "colab": {
          "base_uri": "https://localhost:8080/"
        }
      },
      "execution_count": 26,
      "outputs": [
        {
          "output_type": "execute_result",
          "data": {
            "text/plain": [
              "5"
            ]
          },
          "metadata": {},
          "execution_count": 26
        }
      ]
    },
    {
      "cell_type": "code",
      "source": [
        "# Find the substring in the string.\n",
        "\n",
        "name.find('Jack')"
      ],
      "metadata": {
        "id": "WXU3bu2dPyuh",
        "outputId": "87eb760b-bcc7-4ebe-e814-a816a129811c",
        "colab": {
          "base_uri": "https://localhost:8080/"
        }
      },
      "execution_count": 27,
      "outputs": [
        {
          "output_type": "execute_result",
          "data": {
            "text/plain": [
              "8"
            ]
          },
          "metadata": {},
          "execution_count": 27
        }
      ]
    },
    {
      "cell_type": "markdown",
      "source": [
        "If the  sub-string is not in the string then the output is a negative one. For example, the string 'Jasdfasdasdf' is not a substring:\n"
      ],
      "metadata": {
        "id": "hRb88tYVPyui"
      }
    },
    {
      "cell_type": "code",
      "source": [
        "# If cannot find the substring in the string\n",
        "\n",
        "name.find('Jasdfasdasdf')"
      ],
      "metadata": {
        "id": "GQmPHa4ePyui",
        "outputId": "e31b0c6e-e830-473a-e89b-5e321c029d68",
        "colab": {
          "base_uri": "https://localhost:8080/"
        }
      },
      "execution_count": 28,
      "outputs": [
        {
          "output_type": "execute_result",
          "data": {
            "text/plain": [
              "-1"
            ]
          },
          "metadata": {},
          "execution_count": 28
        }
      ]
    },
    {
      "cell_type": "markdown",
      "source": [
        "<hr>\n"
      ],
      "metadata": {
        "id": "GVwJsyfoPyui"
      }
    },
    {
      "cell_type": "markdown",
      "source": [
        "<h2 id=\"quiz\">Quiz on Strings</h2>\n"
      ],
      "metadata": {
        "id": "0_kXBiPQPyui"
      }
    },
    {
      "cell_type": "markdown",
      "source": [
        "What is the value of the variable <code>a</code> after the following code is executed?\n"
      ],
      "metadata": {
        "id": "6juVemjBPyuj"
      }
    },
    {
      "cell_type": "code",
      "source": [
        "# Write your code below and press Shift+Enter to execute \n",
        "\n",
        "a = \"1\"\n",
        "\"1\""
      ],
      "metadata": {
        "id": "d6O3RCcePyuj",
        "outputId": "6a0dfdf8-1e3a-4a6b-ee3d-fcf74fa3c231",
        "colab": {
          "base_uri": "https://localhost:8080/",
          "height": 35
        }
      },
      "execution_count": 30,
      "outputs": [
        {
          "output_type": "execute_result",
          "data": {
            "text/plain": [
              "'1'"
            ],
            "application/vnd.google.colaboratory.intrinsic+json": {
              "type": "string"
            }
          },
          "metadata": {},
          "execution_count": 30
        }
      ]
    },
    {
      "cell_type": "markdown",
      "source": [
        "<details><summary>Click here for the solution</summary>\n",
        "\n",
        "```python\n",
        "\"1\"\n",
        "\n",
        "```\n",
        "\n",
        "</details>\n"
      ],
      "metadata": {
        "id": "K0MRl4c-Pyuj"
      }
    },
    {
      "cell_type": "markdown",
      "source": [
        "What is the value of the variable <code>b</code> after the following code is executed?\n"
      ],
      "metadata": {
        "id": "Zm2ON4m6Pyuk"
      }
    },
    {
      "cell_type": "code",
      "source": [
        "# Write your code below and press Shift+Enter to execute\n",
        "\n",
        "b = \"2\"\n",
        "\"2\""
      ],
      "metadata": {
        "id": "Z5nHXEIiPyuk",
        "outputId": "a46fbd38-5b0a-4250-91ad-c9a4f5ccb966",
        "colab": {
          "base_uri": "https://localhost:8080/",
          "height": 35
        }
      },
      "execution_count": 31,
      "outputs": [
        {
          "output_type": "execute_result",
          "data": {
            "text/plain": [
              "'2'"
            ],
            "application/vnd.google.colaboratory.intrinsic+json": {
              "type": "string"
            }
          },
          "metadata": {},
          "execution_count": 31
        }
      ]
    },
    {
      "cell_type": "markdown",
      "source": [
        "<details><summary>Click here for the solution</summary>\n",
        "\n",
        "```python\n",
        "\"2\"\n",
        "\n",
        "```\n",
        "\n",
        "</details>\n"
      ],
      "metadata": {
        "id": "6F10VXu4Pyuk"
      }
    },
    {
      "cell_type": "markdown",
      "source": [
        "What is the value of the variable <code>c</code> after the following code is executed?\n"
      ],
      "metadata": {
        "id": "l-Lk_4ouPyuk"
      }
    },
    {
      "cell_type": "code",
      "source": [
        "# Write your code below and press Shift+Enter to execute \n",
        "\n",
        "c = a + b\n",
        "\"12\""
      ],
      "metadata": {
        "id": "lZPntEnQPyul",
        "outputId": "74812ed3-3436-4cde-b013-f0fe56a4dcbd",
        "colab": {
          "base_uri": "https://localhost:8080/",
          "height": 35
        }
      },
      "execution_count": 33,
      "outputs": [
        {
          "output_type": "execute_result",
          "data": {
            "text/plain": [
              "'12'"
            ],
            "application/vnd.google.colaboratory.intrinsic+json": {
              "type": "string"
            }
          },
          "metadata": {},
          "execution_count": 33
        }
      ]
    },
    {
      "cell_type": "markdown",
      "source": [
        "<details><summary>Click here for the solution</summary>\n",
        "\n",
        "```python\n",
        "\"12\"\n",
        "\n",
        "```\n",
        "\n",
        "</details>\n"
      ],
      "metadata": {
        "id": "ivXVR9myPyul"
      }
    },
    {
      "cell_type": "markdown",
      "source": [
        "<hr>\n"
      ],
      "metadata": {
        "id": "fN8yFXeJPyul"
      }
    },
    {
      "cell_type": "markdown",
      "source": [
        "Consider the variable <code>d</code> use slicing to print out the first three elements:\n"
      ],
      "metadata": {
        "id": "X1lF2dtEPyul"
      }
    },
    {
      "cell_type": "code",
      "source": [
        "# Write your code below and press Shift+Enter to execute\n",
        "\n",
        "d = \"ABCDEFG\"\n",
        "print(d[0:3])"
      ],
      "metadata": {
        "id": "75LsZViYPyum",
        "outputId": "2bb90e5b-d71a-4637-a01f-0a1c4ebf6ac6",
        "colab": {
          "base_uri": "https://localhost:8080/"
        }
      },
      "execution_count": 36,
      "outputs": [
        {
          "output_type": "stream",
          "name": "stdout",
          "text": [
            "ABC\n"
          ]
        }
      ]
    },
    {
      "cell_type": "markdown",
      "source": [
        "<details><summary>Click here for the solution</summary>\n",
        "\n",
        "```python\n",
        "print(d[:3]) \n",
        "\n",
        "# or \n",
        "\n",
        "print(d[0:3])\n",
        "\n",
        "```\n",
        "\n",
        "</details>\n"
      ],
      "metadata": {
        "id": "FxFyCHKgPyum"
      }
    },
    {
      "cell_type": "markdown",
      "source": [
        "<hr>\n"
      ],
      "metadata": {
        "id": "hCz1i0NsPyum"
      }
    },
    {
      "cell_type": "markdown",
      "source": [
        "Use a stride value of 2 to print out every second character of the string <code>e</code>:\n"
      ],
      "metadata": {
        "id": "ll4t06EoPyum"
      }
    },
    {
      "cell_type": "code",
      "source": [
        "# Write your code below and press Shift+Enter to execute\n",
        "\n",
        "e = 'clocrkr1e1c1t'\n",
        "print(e[::2])"
      ],
      "metadata": {
        "id": "ituuhiXUPyum",
        "outputId": "5162f756-fb4e-4d04-d00b-8df4b2efcdd4",
        "colab": {
          "base_uri": "https://localhost:8080/"
        }
      },
      "execution_count": 37,
      "outputs": [
        {
          "output_type": "stream",
          "name": "stdout",
          "text": [
            "correct\n"
          ]
        }
      ]
    },
    {
      "cell_type": "markdown",
      "source": [
        "<details><summary>Click here for the solution</summary>\n",
        "\n",
        "```python\n",
        "print(e[::2])\n",
        "\n",
        "```\n",
        "\n",
        "</details>\n"
      ],
      "metadata": {
        "id": "Dz_COCgWPyun"
      }
    },
    {
      "cell_type": "markdown",
      "source": [
        "<hr>\n"
      ],
      "metadata": {
        "id": "9d_3QPRJPyun"
      }
    },
    {
      "cell_type": "markdown",
      "source": [
        "Print out a backslash:\n"
      ],
      "metadata": {
        "id": "xNyiA0skPyun"
      }
    },
    {
      "cell_type": "code",
      "source": [
        "# Write your code below and press Shift+Enter to execute\n",
        "print(r\"\\ \")"
      ],
      "metadata": {
        "id": "uZ-Qbae2Pyun",
        "outputId": "ffd4523b-7ed9-480e-86e1-720d82da4976",
        "colab": {
          "base_uri": "https://localhost:8080/"
        }
      },
      "execution_count": 38,
      "outputs": [
        {
          "output_type": "stream",
          "name": "stdout",
          "text": [
            "\\ \n"
          ]
        }
      ]
    },
    {
      "cell_type": "markdown",
      "source": [
        "<details><summary>Click here for the solution</summary>\n",
        "\n",
        "```python\n",
        "print(\"\\\\\\\\\\\\\")\n",
        "\n",
        "or\n",
        "\n",
        "print(r\"\\ \")\n",
        "\n",
        "```\n",
        "\n",
        "</details>\n"
      ],
      "metadata": {
        "id": "WHTNMdUfPyuo"
      }
    },
    {
      "cell_type": "markdown",
      "source": [
        "<hr>\n"
      ],
      "metadata": {
        "id": "huwBuwlqPyuo"
      }
    },
    {
      "cell_type": "markdown",
      "source": [
        "Convert the variable <code>f</code> to uppercase:\n"
      ],
      "metadata": {
        "id": "WPR9j1D7Pyuo"
      }
    },
    {
      "cell_type": "code",
      "source": [
        "# Write your code below and press Shift+Enter to execute\n",
        "\n",
        "f = \"You are wrong\"\n",
        "f.upper()"
      ],
      "metadata": {
        "id": "nD8W0lMaPyuo",
        "outputId": "3f2825ae-a3b0-4a28-bc1c-24a6f21b98e1",
        "colab": {
          "base_uri": "https://localhost:8080/",
          "height": 35
        }
      },
      "execution_count": 40,
      "outputs": [
        {
          "output_type": "execute_result",
          "data": {
            "text/plain": [
              "'YOU ARE WRONG'"
            ],
            "application/vnd.google.colaboratory.intrinsic+json": {
              "type": "string"
            }
          },
          "metadata": {},
          "execution_count": 40
        }
      ]
    },
    {
      "cell_type": "markdown",
      "source": [
        "<details><summary>Click here for the solution</summary>\n",
        "\n",
        "```python\n",
        "f.upper()\n",
        "\n",
        "```\n",
        "\n",
        "</details>\n"
      ],
      "metadata": {
        "id": "-jAyjIvLPyup"
      }
    },
    {
      "cell_type": "markdown",
      "source": [
        "<hr>\n"
      ],
      "metadata": {
        "id": "-_DIRk45Pyup"
      }
    },
    {
      "cell_type": "markdown",
      "source": [
        "Consider the variable <code>g</code>, and find the first index of the sub-string <code>snow</code>:\n"
      ],
      "metadata": {
        "id": "2Ofc-fVQPyup"
      }
    },
    {
      "cell_type": "code",
      "source": [
        "# Write your code below and press Shift+Enter to execute\n",
        "\n",
        "g = \"Mary had a little lamb Little lamb, little lamb Mary had a little lamb \\\n",
        "Its fleece was white as snow And everywhere that Mary went Mary went, Mary went \\\n",
        "Everywhere that Mary went The lamb was sure to go\"\n",
        "g.find(\"snow\")"
      ],
      "metadata": {
        "id": "-O1kCPsSPyup",
        "outputId": "c151a83c-d726-4ceb-fcb9-f1450a8e1b8c",
        "colab": {
          "base_uri": "https://localhost:8080/"
        }
      },
      "execution_count": 43,
      "outputs": [
        {
          "output_type": "execute_result",
          "data": {
            "text/plain": [
              "95"
            ]
          },
          "metadata": {},
          "execution_count": 43
        }
      ]
    },
    {
      "cell_type": "markdown",
      "source": [
        "<details><summary>Click here for the solution</summary>\n",
        "\n",
        "```python\n",
        "g.find(\"snow\")\n",
        "\n",
        "```\n",
        "\n",
        "</details>\n"
      ],
      "metadata": {
        "id": "mxIE9WPTPyuq"
      }
    },
    {
      "cell_type": "markdown",
      "source": [
        "In the variable <code>g</code>, replace the sub-string <code>Mary</code> with <code>Bob</code>:\n"
      ],
      "metadata": {
        "id": "QWgMGO44Pyuq"
      }
    },
    {
      "cell_type": "code",
      "source": [
        "# Write your code below and press Shift+Enter to execute\n",
        "g.replace(\"Mary\", \"Bob\")"
      ],
      "metadata": {
        "id": "oqFWRIRjPyuq",
        "outputId": "80c3f0f7-074f-4468-c896-520f68ea32ec",
        "colab": {
          "base_uri": "https://localhost:8080/",
          "height": 53
        }
      },
      "execution_count": 45,
      "outputs": [
        {
          "output_type": "execute_result",
          "data": {
            "text/plain": [
              "'Bob had a little lamb Little lamb, little lamb Bob had a little lamb Its fleece was white as snow And everywhere that Bob went Bob went, Bob went Everywhere that Bob went The lamb was sure to go'"
            ],
            "application/vnd.google.colaboratory.intrinsic+json": {
              "type": "string"
            }
          },
          "metadata": {},
          "execution_count": 45
        }
      ]
    },
    {
      "cell_type": "markdown",
      "source": [
        "<details><summary>Click here for the solution</summary>\n",
        "\n",
        "```python\n",
        "g.replace(\"Mary\", \"Bob\")\n",
        "\n",
        "```\n",
        "\n",
        "</details>\n"
      ],
      "metadata": {
        "id": "MCDTEsDOPyuq"
      }
    },
    {
      "cell_type": "markdown",
      "source": [
        "<hr>\n",
        "<h2>The last exercise!</h2>\n",
        "<p>Congratulations, you have completed your first lesson and hands-on lab in Python.\n",
        "<hr>\n"
      ],
      "metadata": {
        "id": "1EBXi0V2Pyur"
      }
    },
    {
      "cell_type": "markdown",
      "source": [
        "## Author\n",
        "\n",
        "<a href=\"https://www.linkedin.com/in/joseph-s-50398b136/?utm_medium=Exinfluencer&utm_source=Exinfluencer&utm_content=000026UJ&utm_term=10006555&utm_id=NA-SkillsNetwork-Channel-SkillsNetworkCoursesIBMDeveloperSkillsNetworkPY0101ENSkillsNetwork19487395-2021-01-01\" target=\"_blank\">Joseph Santarcangelo</a>\n",
        "\n",
        "## Change Log\n",
        "\n",
        "| Date (YYYY-MM-DD) | Version | Changed By | Change Description                  |\n",
        "| ----------------- | ------- | ---------- | ----------------------------------- |\n",
        "| 2022-01-10        | 2.1     | Malika     | Removed the readme for GitShare     |\n",
        "| 2020-11-11        | 2.1     | Aije       | Updated variable names to lowercase |\n",
        "| 2020-08-26        | 2.0     | Lavanya    | Moved lab to course repo in GitLab  |\n",
        "\n",
        "## <h3 align=\"center\"> © IBM Corporation 2020. All rights reserved. <h3/>\n"
      ],
      "metadata": {
        "id": "Wpxom7cvPyur"
      }
    }
  ]
}